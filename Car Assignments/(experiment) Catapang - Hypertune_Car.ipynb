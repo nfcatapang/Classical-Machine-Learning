{
 "cells": [
  {
   "cell_type": "markdown",
   "metadata": {},
   "source": [
    "# Car Acceptability Prediction - SVC with Hyperparameter Tuning\n",
    "Neil John Catapang"
   ]
  },
  {
   "cell_type": "code",
   "execution_count": 1,
   "metadata": {},
   "outputs": [],
   "source": [
    "import pandas as pd\n",
    "import numpy as np\n",
    "from sklearn.svm import SVC\n",
    "import matplotlib.pyplot as plt\n",
    "import seaborn as sns\n",
    "from time import time\n",
    "\n",
    "from sklearn.pipeline import make_pipeline\n",
    "from sklearn.model_selection import train_test_split, GridSearchCV, RandomizedSearchCV, StratifiedKFold\n",
    "from sklearn.metrics import confusion_matrix, classification_report\n",
    "from sklearn.preprocessing import StandardScaler, OneHotEncoder, OrdinalEncoder"
   ]
  },
  {
   "cell_type": "markdown",
   "metadata": {},
   "source": [
    "## Loading the Dataset + EDA"
   ]
  },
  {
   "cell_type": "markdown",
   "metadata": {},
   "source": [
    "### Car Evaluation Dataset"
   ]
  },
  {
   "cell_type": "markdown",
   "metadata": {},
   "source": [
    "The given dataset is comma-separated data file without headers. We load this dataset using pandas with <code>header=None</code>."
   ]
  },
  {
   "cell_type": "code",
   "execution_count": 2,
   "metadata": {},
   "outputs": [
    {
     "data": {
      "text/html": [
       "<div>\n",
       "<style scoped>\n",
       "    .dataframe tbody tr th:only-of-type {\n",
       "        vertical-align: middle;\n",
       "    }\n",
       "\n",
       "    .dataframe tbody tr th {\n",
       "        vertical-align: top;\n",
       "    }\n",
       "\n",
       "    .dataframe thead th {\n",
       "        text-align: right;\n",
       "    }\n",
       "</style>\n",
       "<table border=\"1\" class=\"dataframe\">\n",
       "  <thead>\n",
       "    <tr style=\"text-align: right;\">\n",
       "      <th></th>\n",
       "      <th>buying</th>\n",
       "      <th>maint</th>\n",
       "      <th>doors</th>\n",
       "      <th>persons</th>\n",
       "      <th>lug_boot</th>\n",
       "      <th>safety</th>\n",
       "      <th>class</th>\n",
       "    </tr>\n",
       "  </thead>\n",
       "  <tbody>\n",
       "    <tr>\n",
       "      <th>0</th>\n",
       "      <td>vhigh</td>\n",
       "      <td>vhigh</td>\n",
       "      <td>2</td>\n",
       "      <td>2</td>\n",
       "      <td>small</td>\n",
       "      <td>low</td>\n",
       "      <td>unacc</td>\n",
       "    </tr>\n",
       "    <tr>\n",
       "      <th>1</th>\n",
       "      <td>vhigh</td>\n",
       "      <td>vhigh</td>\n",
       "      <td>2</td>\n",
       "      <td>2</td>\n",
       "      <td>small</td>\n",
       "      <td>med</td>\n",
       "      <td>unacc</td>\n",
       "    </tr>\n",
       "    <tr>\n",
       "      <th>2</th>\n",
       "      <td>vhigh</td>\n",
       "      <td>vhigh</td>\n",
       "      <td>2</td>\n",
       "      <td>2</td>\n",
       "      <td>small</td>\n",
       "      <td>high</td>\n",
       "      <td>unacc</td>\n",
       "    </tr>\n",
       "    <tr>\n",
       "      <th>3</th>\n",
       "      <td>vhigh</td>\n",
       "      <td>vhigh</td>\n",
       "      <td>2</td>\n",
       "      <td>2</td>\n",
       "      <td>med</td>\n",
       "      <td>low</td>\n",
       "      <td>unacc</td>\n",
       "    </tr>\n",
       "    <tr>\n",
       "      <th>4</th>\n",
       "      <td>vhigh</td>\n",
       "      <td>vhigh</td>\n",
       "      <td>2</td>\n",
       "      <td>2</td>\n",
       "      <td>med</td>\n",
       "      <td>med</td>\n",
       "      <td>unacc</td>\n",
       "    </tr>\n",
       "    <tr>\n",
       "      <th>...</th>\n",
       "      <td>...</td>\n",
       "      <td>...</td>\n",
       "      <td>...</td>\n",
       "      <td>...</td>\n",
       "      <td>...</td>\n",
       "      <td>...</td>\n",
       "      <td>...</td>\n",
       "    </tr>\n",
       "    <tr>\n",
       "      <th>1723</th>\n",
       "      <td>low</td>\n",
       "      <td>low</td>\n",
       "      <td>5more</td>\n",
       "      <td>more</td>\n",
       "      <td>med</td>\n",
       "      <td>med</td>\n",
       "      <td>good</td>\n",
       "    </tr>\n",
       "    <tr>\n",
       "      <th>1724</th>\n",
       "      <td>low</td>\n",
       "      <td>low</td>\n",
       "      <td>5more</td>\n",
       "      <td>more</td>\n",
       "      <td>med</td>\n",
       "      <td>high</td>\n",
       "      <td>vgood</td>\n",
       "    </tr>\n",
       "    <tr>\n",
       "      <th>1725</th>\n",
       "      <td>low</td>\n",
       "      <td>low</td>\n",
       "      <td>5more</td>\n",
       "      <td>more</td>\n",
       "      <td>big</td>\n",
       "      <td>low</td>\n",
       "      <td>unacc</td>\n",
       "    </tr>\n",
       "    <tr>\n",
       "      <th>1726</th>\n",
       "      <td>low</td>\n",
       "      <td>low</td>\n",
       "      <td>5more</td>\n",
       "      <td>more</td>\n",
       "      <td>big</td>\n",
       "      <td>med</td>\n",
       "      <td>good</td>\n",
       "    </tr>\n",
       "    <tr>\n",
       "      <th>1727</th>\n",
       "      <td>low</td>\n",
       "      <td>low</td>\n",
       "      <td>5more</td>\n",
       "      <td>more</td>\n",
       "      <td>big</td>\n",
       "      <td>high</td>\n",
       "      <td>vgood</td>\n",
       "    </tr>\n",
       "  </tbody>\n",
       "</table>\n",
       "<p>1728 rows × 7 columns</p>\n",
       "</div>"
      ],
      "text/plain": [
       "     buying  maint  doors persons lug_boot safety  class\n",
       "0     vhigh  vhigh      2       2    small    low  unacc\n",
       "1     vhigh  vhigh      2       2    small    med  unacc\n",
       "2     vhigh  vhigh      2       2    small   high  unacc\n",
       "3     vhigh  vhigh      2       2      med    low  unacc\n",
       "4     vhigh  vhigh      2       2      med    med  unacc\n",
       "...     ...    ...    ...     ...      ...    ...    ...\n",
       "1723    low    low  5more    more      med    med   good\n",
       "1724    low    low  5more    more      med   high  vgood\n",
       "1725    low    low  5more    more      big    low  unacc\n",
       "1726    low    low  5more    more      big    med   good\n",
       "1727    low    low  5more    more      big   high  vgood\n",
       "\n",
       "[1728 rows x 7 columns]"
      ]
     },
     "metadata": {},
     "output_type": "display_data"
    },
    {
     "name": "stdout",
     "output_type": "stream",
     "text": [
      "Dataset information:\n",
      "<class 'pandas.core.frame.DataFrame'>\n",
      "RangeIndex: 1728 entries, 0 to 1727\n",
      "Data columns (total 7 columns):\n",
      " #   Column    Non-Null Count  Dtype \n",
      "---  ------    --------------  ----- \n",
      " 0   buying    1728 non-null   object\n",
      " 1   maint     1728 non-null   object\n",
      " 2   doors     1728 non-null   object\n",
      " 3   persons   1728 non-null   object\n",
      " 4   lug_boot  1728 non-null   object\n",
      " 5   safety    1728 non-null   object\n",
      " 6   class     1728 non-null   object\n",
      "dtypes: object(7)\n",
      "memory usage: 94.6+ KB\n",
      "None \n",
      "\n",
      "Dataset Summary: \n",
      "       buying  maint doors persons lug_boot safety  class\n",
      "count    1728   1728  1728    1728     1728   1728   1728\n",
      "unique      4      4     4       3        3      3      4\n",
      "top     vhigh  vhigh     2       2    small    low  unacc\n",
      "freq      432    432   432     576      576    576   1210\n"
     ]
    }
   ],
   "source": [
    "car = pd.read_csv(\"car.data\", header=None)\n",
    "\n",
    "# Rename the columns (dataset does not include feature names)\n",
    "car.columns = [\"buying\", \"maint\", \"doors\", \"persons\", \"lug_boot\", \"safety\", \"class\"]\n",
    "\n",
    "display(car)\n",
    "print(\"Dataset information:\")\n",
    "print(car.info(), \"\\n\")\n",
    "print(f\"Dataset Summary: \\n{car.describe(include=\"all\")}\")"
   ]
  },
  {
   "cell_type": "markdown",
   "metadata": {},
   "source": [
    "All features are Dtype = object, which suggests that all features are categorical in nature. There are 1728 examples for this dataset, and the target label <code>'class'</code> have 4 unique values. Thus, prediction of car acceptability in this case is a multi-class classification problem."
   ]
  },
  {
   "cell_type": "markdown",
   "metadata": {},
   "source": [
    "### Count Plots of Features and Target"
   ]
  },
  {
   "cell_type": "markdown",
   "metadata": {},
   "source": [
    "I used count plots to check the distribution of values of each feature, as well as the target class."
   ]
  },
  {
   "cell_type": "code",
   "execution_count": 3,
   "metadata": {},
   "outputs": [
    {
     "data": {
      "image/png": "[encoded data removed]",
      "text/plain": [
       "<Figure size 1200x900 with 7 Axes>"
      ]
     },
     "metadata": {},
     "output_type": "display_data"
    }
   ],
   "source": [
    "plt.figure(figsize=(12, 9))\n",
    "\n",
    "for i, col in enumerate(car.columns): \n",
    "    plt.subplot(3, 3, i + 1)\n",
    "\n",
    "    if i in [0, 1]:\n",
    "        sns.countplot(x=car[col], order=['low', 'med', 'high', 'vhigh'], hue=car[col], palette='viridis')\n",
    "    elif i == 4:\n",
    "        sns.countplot(x=car[col], order=['small', 'med', 'big'], hue=car[col], palette='viridis')\n",
    "    elif i == 5:\n",
    "        sns.countplot(x=car[col], order=['low', 'med', 'high'], hue=car[col], palette='viridis')\n",
    "    elif i == 6:\n",
    "        sns.countplot(x=car[col], order=['unacc', 'acc', 'good', 'vgood'], hue=car[col], palette='viridis')\n",
    "    else:\n",
    "        sns.countplot(x=car[col], hue=car[col], palette='viridis')\n",
    "\n",
    "    plt.title(f\"Count Plot: {col}\")\n",
    "plt.tight_layout()\n",
    "plt.show()"
   ]
  },
  {
   "cell_type": "markdown",
   "metadata": {},
   "source": [
    "We can see from above that for all the features, their values are occurring with the same frequencies. However, the class imbalance is very apparent in the last subplot. This might affect the performance of the SVC model, as it will favor the majority class more than the minority classes.\n",
    "\n",
    "In the succeeding parts of this assignment, I will try to create a model without balancing the classes to see if the SVC model can handle this type of dataset well. If not, I will proceed to balance the classes using Synthetic Minority Oversampling Technique (SMOTE)."
   ]
  },
  {
   "cell_type": "markdown",
   "metadata": {},
   "source": [
    "### Heatmap of Features (Including Target)"
   ]
  },
  {
   "cell_type": "markdown",
   "metadata": {},
   "source": [
    "The heatmap shows correlation between each pair of features. In this case, I also included the target in the heatmap to see if there is a linear relationship between the features and the target. This will give us an idea about the appropriate kernel to use for the SVC.\n",
    "\n",
    "We need to transform first the features into numerical ones using <code>OrdinalEncoder</code> for ordinal features and <code>OneHotEncoder</code> for other categorical features. The labels were manually mapped (with ordinal sense) to see if there is correlation between features and target."
   ]
  },
  {
   "cell_type": "code",
   "execution_count": 4,
   "metadata": {},
   "outputs": [
    {
     "data": {
      "text/html": [
       "<div>\n",
       "<style scoped>\n",
       "    .dataframe tbody tr th:only-of-type {\n",
       "        vertical-align: middle;\n",
       "    }\n",
       "\n",
       "    .dataframe tbody tr th {\n",
       "        vertical-align: top;\n",
       "    }\n",
       "\n",
       "    .dataframe thead th {\n",
       "        text-align: right;\n",
       "    }\n",
       "</style>\n",
       "<table border=\"1\" class=\"dataframe\">\n",
       "  <thead>\n",
       "    <tr style=\"text-align: right;\">\n",
       "      <th></th>\n",
       "      <th>buying</th>\n",
       "      <th>maint</th>\n",
       "      <th>lug_boot</th>\n",
       "      <th>safety</th>\n",
       "      <th>doors_2</th>\n",
       "      <th>doors_3</th>\n",
       "      <th>doors_4</th>\n",
       "      <th>doors_5more</th>\n",
       "      <th>persons_2</th>\n",
       "      <th>persons_4</th>\n",
       "      <th>persons_more</th>\n",
       "    </tr>\n",
       "  </thead>\n",
       "  <tbody>\n",
       "    <tr>\n",
       "      <th>0</th>\n",
       "      <td>3.0</td>\n",
       "      <td>3.0</td>\n",
       "      <td>0.0</td>\n",
       "      <td>0.0</td>\n",
       "      <td>1.0</td>\n",
       "      <td>0.0</td>\n",
       "      <td>0.0</td>\n",
       "      <td>0.0</td>\n",
       "      <td>1.0</td>\n",
       "      <td>0.0</td>\n",
       "      <td>0.0</td>\n",
       "    </tr>\n",
       "    <tr>\n",
       "      <th>1</th>\n",
       "      <td>3.0</td>\n",
       "      <td>3.0</td>\n",
       "      <td>0.0</td>\n",
       "      <td>1.0</td>\n",
       "      <td>1.0</td>\n",
       "      <td>0.0</td>\n",
       "      <td>0.0</td>\n",
       "      <td>0.0</td>\n",
       "      <td>1.0</td>\n",
       "      <td>0.0</td>\n",
       "      <td>0.0</td>\n",
       "    </tr>\n",
       "    <tr>\n",
       "      <th>2</th>\n",
       "      <td>3.0</td>\n",
       "      <td>3.0</td>\n",
       "      <td>0.0</td>\n",
       "      <td>2.0</td>\n",
       "      <td>1.0</td>\n",
       "      <td>0.0</td>\n",
       "      <td>0.0</td>\n",
       "      <td>0.0</td>\n",
       "      <td>1.0</td>\n",
       "      <td>0.0</td>\n",
       "      <td>0.0</td>\n",
       "    </tr>\n",
       "    <tr>\n",
       "      <th>3</th>\n",
       "      <td>3.0</td>\n",
       "      <td>3.0</td>\n",
       "      <td>1.0</td>\n",
       "      <td>0.0</td>\n",
       "      <td>1.0</td>\n",
       "      <td>0.0</td>\n",
       "      <td>0.0</td>\n",
       "      <td>0.0</td>\n",
       "      <td>1.0</td>\n",
       "      <td>0.0</td>\n",
       "      <td>0.0</td>\n",
       "    </tr>\n",
       "    <tr>\n",
       "      <th>4</th>\n",
       "      <td>3.0</td>\n",
       "      <td>3.0</td>\n",
       "      <td>1.0</td>\n",
       "      <td>1.0</td>\n",
       "      <td>1.0</td>\n",
       "      <td>0.0</td>\n",
       "      <td>0.0</td>\n",
       "      <td>0.0</td>\n",
       "      <td>1.0</td>\n",
       "      <td>0.0</td>\n",
       "      <td>0.0</td>\n",
       "    </tr>\n",
       "    <tr>\n",
       "      <th>...</th>\n",
       "      <td>...</td>\n",
       "      <td>...</td>\n",
       "      <td>...</td>\n",
       "      <td>...</td>\n",
       "      <td>...</td>\n",
       "      <td>...</td>\n",
       "      <td>...</td>\n",
       "      <td>...</td>\n",
       "      <td>...</td>\n",
       "      <td>...</td>\n",
       "      <td>...</td>\n",
       "    </tr>\n",
       "    <tr>\n",
       "      <th>1723</th>\n",
       "      <td>0.0</td>\n",
       "      <td>0.0</td>\n",
       "      <td>1.0</td>\n",
       "      <td>1.0</td>\n",
       "      <td>0.0</td>\n",
       "      <td>0.0</td>\n",
       "      <td>0.0</td>\n",
       "      <td>1.0</td>\n",
       "      <td>0.0</td>\n",
       "      <td>0.0</td>\n",
       "      <td>1.0</td>\n",
       "    </tr>\n",
       "    <tr>\n",
       "      <th>1724</th>\n",
       "      <td>0.0</td>\n",
       "      <td>0.0</td>\n",
       "      <td>1.0</td>\n",
       "      <td>2.0</td>\n",
       "      <td>0.0</td>\n",
       "      <td>0.0</td>\n",
       "      <td>0.0</td>\n",
       "      <td>1.0</td>\n",
       "      <td>0.0</td>\n",
       "      <td>0.0</td>\n",
       "      <td>1.0</td>\n",
       "    </tr>\n",
       "    <tr>\n",
       "      <th>1725</th>\n",
       "      <td>0.0</td>\n",
       "      <td>0.0</td>\n",
       "      <td>2.0</td>\n",
       "      <td>0.0</td>\n",
       "      <td>0.0</td>\n",
       "      <td>0.0</td>\n",
       "      <td>0.0</td>\n",
       "      <td>1.0</td>\n",
       "      <td>0.0</td>\n",
       "      <td>0.0</td>\n",
       "      <td>1.0</td>\n",
       "    </tr>\n",
       "    <tr>\n",
       "      <th>1726</th>\n",
       "      <td>0.0</td>\n",
       "      <td>0.0</td>\n",
       "      <td>2.0</td>\n",
       "      <td>1.0</td>\n",
       "      <td>0.0</td>\n",
       "      <td>0.0</td>\n",
       "      <td>0.0</td>\n",
       "      <td>1.0</td>\n",
       "      <td>0.0</td>\n",
       "      <td>0.0</td>\n",
       "      <td>1.0</td>\n",
       "    </tr>\n",
       "    <tr>\n",
       "      <th>1727</th>\n",
       "      <td>0.0</td>\n",
       "      <td>0.0</td>\n",
       "      <td>2.0</td>\n",
       "      <td>2.0</td>\n",
       "      <td>0.0</td>\n",
       "      <td>0.0</td>\n",
       "      <td>0.0</td>\n",
       "      <td>1.0</td>\n",
       "      <td>0.0</td>\n",
       "      <td>0.0</td>\n",
       "      <td>1.0</td>\n",
       "    </tr>\n",
       "  </tbody>\n",
       "</table>\n",
       "<p>1728 rows × 11 columns</p>\n",
       "</div>"
      ],
      "text/plain": [
       "      buying  maint  lug_boot  safety  doors_2  doors_3  doors_4  doors_5more  \\\n",
       "0        3.0    3.0       0.0     0.0      1.0      0.0      0.0          0.0   \n",
       "1        3.0    3.0       0.0     1.0      1.0      0.0      0.0          0.0   \n",
       "2        3.0    3.0       0.0     2.0      1.0      0.0      0.0          0.0   \n",
       "3        3.0    3.0       1.0     0.0      1.0      0.0      0.0          0.0   \n",
       "4        3.0    3.0       1.0     1.0      1.0      0.0      0.0          0.0   \n",
       "...      ...    ...       ...     ...      ...      ...      ...          ...   \n",
       "1723     0.0    0.0       1.0     1.0      0.0      0.0      0.0          1.0   \n",
       "1724     0.0    0.0       1.0     2.0      0.0      0.0      0.0          1.0   \n",
       "1725     0.0    0.0       2.0     0.0      0.0      0.0      0.0          1.0   \n",
       "1726     0.0    0.0       2.0     1.0      0.0      0.0      0.0          1.0   \n",
       "1727     0.0    0.0       2.0     2.0      0.0      0.0      0.0          1.0   \n",
       "\n",
       "      persons_2  persons_4  persons_more  \n",
       "0           1.0        0.0           0.0  \n",
       "1           1.0        0.0           0.0  \n",
       "2           1.0        0.0           0.0  \n",
       "3           1.0        0.0           0.0  \n",
       "4           1.0        0.0           0.0  \n",
       "...         ...        ...           ...  \n",
       "1723        0.0        0.0           1.0  \n",
       "1724        0.0        0.0           1.0  \n",
       "1725        0.0        0.0           1.0  \n",
       "1726        0.0        0.0           1.0  \n",
       "1727        0.0        0.0           1.0  \n",
       "\n",
       "[1728 rows x 11 columns]"
      ]
     },
     "metadata": {},
     "output_type": "display_data"
    }
   ],
   "source": [
    "from sklearn.compose import ColumnTransformer\n",
    "\n",
    "class_mapping = {'unacc': 0, 'acc': 1, 'good': 2, 'vgood': 3}\n",
    "\n",
    "X = car.drop(columns=['class'])\n",
    "y = car['class']\n",
    "y_encoded = car['class'].map(class_mapping)\n",
    "\n",
    "ordinal_features = ['buying', 'maint', 'lug_boot', 'safety']\n",
    "one_hot_features = ['doors', 'persons']\n",
    "\n",
    "ordinal_categories = [\n",
    "    ['low', 'med', 'high', 'vhigh'],\n",
    "    ['low', 'med', 'high', 'vhigh'],\n",
    "    ['small', 'med', 'big'],\n",
    "    ['low', 'med', 'high']\n",
    "]\n",
    "\n",
    "feature_encoder = ColumnTransformer(\n",
    "    transformers=[\n",
    "        ('ord', OrdinalEncoder(categories=ordinal_categories), ordinal_features),\n",
    "        ('ohe', OneHotEncoder(), one_hot_features)\n",
    "    ]\n",
    ")\n",
    "\n",
    "X_encoded = feature_encoder.fit_transform(X)\n",
    "\n",
    "# Access the column names again after transforming\n",
    "ohe_column_names = feature_encoder.named_transformers_['ohe'].get_feature_names_out(one_hot_features).tolist()\n",
    "all_feature_names = ordinal_features + ohe_column_names\n",
    "\n",
    "# Re-convert encoded X to dataframe\n",
    "X_encoded_df = pd.DataFrame(X_encoded, columns=all_feature_names)\n",
    "\n",
    "display(X_encoded_df)"
   ]
  },
  {
   "cell_type": "code",
   "execution_count": 5,
   "metadata": {},
   "outputs": [
    {
     "name": "stdout",
     "output_type": "stream",
     "text": [
      "      buying  maint  lug_boot  safety  doors_2  doors_3  doors_4  doors_5more  \\\n",
      "0        3.0    3.0       0.0     0.0      1.0      0.0      0.0          0.0   \n",
      "1        3.0    3.0       0.0     1.0      1.0      0.0      0.0          0.0   \n",
      "2        3.0    3.0       0.0     2.0      1.0      0.0      0.0          0.0   \n",
      "3        3.0    3.0       1.0     0.0      1.0      0.0      0.0          0.0   \n",
      "4        3.0    3.0       1.0     1.0      1.0      0.0      0.0          0.0   \n",
      "...      ...    ...       ...     ...      ...      ...      ...          ...   \n",
      "1723     0.0    0.0       1.0     1.0      0.0      0.0      0.0          1.0   \n",
      "1724     0.0    0.0       1.0     2.0      0.0      0.0      0.0          1.0   \n",
      "1725     0.0    0.0       2.0     0.0      0.0      0.0      0.0          1.0   \n",
      "1726     0.0    0.0       2.0     1.0      0.0      0.0      0.0          1.0   \n",
      "1727     0.0    0.0       2.0     2.0      0.0      0.0      0.0          1.0   \n",
      "\n",
      "      persons_2  persons_4  persons_more  class  \n",
      "0           1.0        0.0           0.0      0  \n",
      "1           1.0        0.0           0.0      0  \n",
      "2           1.0        0.0           0.0      0  \n",
      "3           1.0        0.0           0.0      0  \n",
      "4           1.0        0.0           0.0      0  \n",
      "...         ...        ...           ...    ...  \n",
      "1723        0.0        0.0           1.0      2  \n",
      "1724        0.0        0.0           1.0      3  \n",
      "1725        0.0        0.0           1.0      0  \n",
      "1726        0.0        0.0           1.0      2  \n",
      "1727        0.0        0.0           1.0      3  \n",
      "\n",
      "[1728 rows x 12 columns]\n"
     ]
    },
    {
     "data": {
      "image/png": "[encoded data removed]",
      "text/plain": [
       "<Figure size 800x600 with 2 Axes>"
      ]
     },
     "metadata": {},
     "output_type": "display_data"
    }
   ],
   "source": [
    "car_encoded = pd.concat([X_encoded_df, y_encoded], axis=1)\n",
    "print(car_encoded)\n",
    "\n",
    "corr_matrix = car_encoded.corr()\n",
    "\n",
    "plt.figure(figsize=(8, 6))\n",
    "sns.heatmap(corr_matrix, annot=True, cmap=\"coolwarm\", fmt=\".2f\")\n",
    "plt.title(\"Feature + Target Correlation Heatmap\")\n",
    "plt.show()"
   ]
  },
  {
   "cell_type": "markdown",
   "metadata": {},
   "source": [
    "Features show very weak correlation with each other. The only features which have weak pairwise correlation are those who are one-hot encoded. This suggests that features in this dataset can be considered as non-correlated or independent from each other.\n",
    "\n",
    "All features show weak correlation with the target class, which suggests that linear models may perform poorly on classification of car acceptability from the given set of features. The feature <code>safety</code> exhibits the highest correlation with the target class, making it likely one of the most important features in the dataset."
   ]
  },
  {
   "cell_type": "markdown",
   "metadata": {},
   "source": [
    "## Data Pre-processing"
   ]
  },
  {
   "cell_type": "markdown",
   "metadata": {},
   "source": [
    "### Train-test Split"
   ]
  },
  {
   "cell_type": "markdown",
   "metadata": {},
   "source": [
    "I used a stratified train-test split to preserve the class distribution ratio of the original dataset."
   ]
  },
  {
   "cell_type": "code",
   "execution_count": 6,
   "metadata": {},
   "outputs": [
    {
     "name": "stdout",
     "output_type": "stream",
     "text": [
      "SVC - Car Acceptability Prediction\n",
      "(1468, 11)\n",
      "(260, 11)\n"
     ]
    }
   ],
   "source": [
    "X_train, X_test, y_train, y_test = train_test_split(X_encoded, y_encoded, test_size=0.15, random_state=0, stratify=y_encoded)\n",
    "print(f'SVC - Car Acceptability Prediction')\n",
    "print(X_train.shape)\n",
    "print(X_test.shape)"
   ]
  },
  {
   "cell_type": "markdown",
   "metadata": {},
   "source": [
    "To check the class distribution, we use <code>Counter</code> to count the frequencies of each target class value."
   ]
  },
  {
   "cell_type": "code",
   "execution_count": 7,
   "metadata": {},
   "outputs": [
    {
     "name": "stdout",
     "output_type": "stream",
     "text": [
      "Train dataset class distribution ratio: \n",
      "Counter({0: 70.03, 1: 22.21, 2: 4.02, 3: 3.75})\n",
      "Test dataset class distribution ratio: \n",
      "Counter({0: 70.0, 1: 22.31, 2: 3.85, 3: 3.85})\n"
     ]
    }
   ],
   "source": [
    "from collections import Counter\n",
    "\n",
    "y_train_count = Counter(y_train)\n",
    "y_test_count = Counter(y_test)\n",
    "\n",
    "y_train_ratio = Counter({key: round(value*100 / y_train.shape[0], 2) for key, value in y_train_count.items()})\n",
    "y_test_ratio = Counter({key: round(value*100/ y_test.shape[0], 2) for key, value in y_test_count.items()})\n",
    "\n",
    "print(f'Train dataset class distribution ratio: \\n{y_train_ratio}')\n",
    "print(f'Test dataset class distribution ratio: \\n{y_test_ratio}')"
   ]
  },
  {
   "cell_type": "markdown",
   "metadata": {},
   "source": [
    "We can see from above that the class distribution ratios for each split were similar to each other."
   ]
  },
  {
   "cell_type": "markdown",
   "metadata": {},
   "source": [
    "## SVC Model with Hyperparameter Tuning"
   ]
  },
  {
   "cell_type": "markdown",
   "metadata": {},
   "source": [
    "### GridSearchCV + StratifiedKFold"
   ]
  },
  {
   "cell_type": "markdown",
   "metadata": {},
   "source": [
    "We can now attempt to create a SVC model tuned with GridSearchCV. I used a stratified k-fold cross-validation to preserve the distribution of the classes during training and validation. I decided not to apply <code>StandardScaler</code> since all features are categorical, and they do not differ significantly in scale after encoding."
   ]
  },
  {
   "cell_type": "code",
   "execution_count": 8,
   "metadata": {},
   "outputs": [
    {
     "name": "stdout",
     "output_type": "stream",
     "text": [
      "Fitting 5 folds for each of 144 candidates, totalling 720 fits\n",
      "GridSearchCV took 73.23 seconds for 144 candidate parameter settings.\n"
     ]
    }
   ],
   "source": [
    "# The base support vector classifier pipeline\n",
    "base_svm = make_pipeline(StandardScaler(), SVC())\n",
    "\n",
    "# Specify grid of hyperparameters\n",
    "param_grid = {\n",
    "    \"svc__C\": [0.01, 0.1, 1, 10, 100, 1000],\n",
    "    \"svc__kernel\": [\"linear\", \"rbf\", 'poly', 'sigmoid'],\n",
    "    \"svc__gamma\": [\"scale\", \"auto\"],\n",
    "    \"svc__degree\": [2, 3, 4]\n",
    "}\n",
    "\n",
    "kfoldcv = StratifiedKFold(n_splits=5, shuffle=True, random_state=0)\n",
    "\n",
    "grid = GridSearchCV(base_svm, param_grid, scoring='accuracy', cv=kfoldcv, verbose=3, n_jobs=-1)\n",
    "\n",
    "start = time()\n",
    "grid.fit(X_train, y_train)\n",
    "\n",
    "print(\"GridSearchCV took %.2f seconds for %d candidate parameter settings.\"\n",
    "      % (time() - start, len(grid.cv_results_[\"params\"])))"
   ]
  },
  {
   "cell_type": "code",
   "execution_count": 9,
   "metadata": {},
   "outputs": [
    {
     "name": "stdout",
     "output_type": "stream",
     "text": [
      "Best Parameters: {'svc__C': 1000, 'svc__degree': 2, 'svc__gamma': 'scale', 'svc__kernel': 'rbf'}\n",
      "Best Accuracy: 0.9754753778644563\n"
     ]
    }
   ],
   "source": [
    "best_model_1 = grid.best_estimator_\n",
    "print(\"Best Parameters:\", grid.best_params_)\n",
    "print(\"Best Accuracy:\", grid.best_score_)"
   ]
  },
  {
   "cell_type": "markdown",
   "metadata": {},
   "source": [
    "We have created a SVC model with cross-validation accuracy score of 0.9830 using the best hyperparameters found using GridSearch as shown above.\n",
    "\n",
    "We now try to create another model tuned via <code>RandomizedSearchCV</code>."
   ]
  },
  {
   "cell_type": "markdown",
   "metadata": {},
   "source": [
    "### RandomizedSearchCV + StratifiedKFold"
   ]
  },
  {
   "cell_type": "markdown",
   "metadata": {},
   "source": [
    "Randomized Search allows for more efficient hyperparameter search without explicitly defining the grid of parameters. It can use random variable distributions to search for best hyperparameter values."
   ]
  },
  {
   "cell_type": "code",
   "execution_count": 10,
   "metadata": {},
   "outputs": [
    {
     "name": "stdout",
     "output_type": "stream",
     "text": [
      "Fitting 5 folds for each of 20 candidates, totalling 100 fits\n",
      "RandomizedSearchCV took 0.54 seconds for 20 candidate parameter settings.\n"
     ]
    }
   ],
   "source": [
    "import scipy.stats as stats\n",
    "max_iter = 20\n",
    "\n",
    "base_svm_2 = make_pipeline(StandardScaler(), SVC())\n",
    "\n",
    "param_dist = {\n",
    "    'svc__C': stats.expon(scale=100),\n",
    "    'svc__gamma': stats.expon(scale=0.1),\n",
    "    'svc__kernel': ['rbf', 'linear', 'poly', 'sigmoid'],\n",
    "    'svc__degree': [2, 3, 4]\n",
    "}\n",
    "\n",
    "random_search = RandomizedSearchCV(\n",
    "    base_svm_2,\n",
    "    param_distributions=param_dist,\n",
    "    n_iter=max_iter,\n",
    "    verbose=2,\n",
    "    n_jobs=-1,\n",
    "    cv=kfoldcv,\n",
    "    random_state=0,\n",
    "    scoring='accuracy'\n",
    ")\n",
    "\n",
    "start = time()\n",
    "random_search.fit(X_train, y_train)\n",
    "print(\"RandomizedSearchCV took %.2f seconds for %d candidate parameter settings.\"\n",
    "      % (time() - start, len(random_search.cv_results_[\"params\"])))"
   ]
  },
  {
   "cell_type": "code",
   "execution_count": 11,
   "metadata": {},
   "outputs": [
    {
     "name": "stdout",
     "output_type": "stream",
     "text": [
      "Best Parameters: {'svc__C': 97.68640611376004, 'svc__degree': 3, 'svc__gamma': 0.11231683015351368, 'svc__kernel': 'rbf'}\n",
      "Best Accuracy: 0.9720693738246151\n"
     ]
    }
   ],
   "source": [
    "best_model_2 = random_search.best_estimator_\n",
    "print(\"Best Parameters:\", random_search.best_params_)\n",
    "print(\"Best Accuracy:\", random_search.best_score_)"
   ]
  },
  {
   "cell_type": "markdown",
   "metadata": {},
   "source": [
    "The obtained accuracy using RandomizedSearchCV is similar to the model tuned via GridSearchCV (0.9877). However, randomized search only took half a second to finish."
   ]
  },
  {
   "cell_type": "markdown",
   "metadata": {},
   "source": [
    "## Evaluation of SVC Models for Car Acceptability Prediction"
   ]
  },
  {
   "cell_type": "markdown",
   "metadata": {},
   "source": [
    "### SVC Tuned via GridSearchCV"
   ]
  },
  {
   "cell_type": "code",
   "execution_count": 12,
   "metadata": {},
   "outputs": [
    {
     "name": "stdout",
     "output_type": "stream",
     "text": [
      "Accuracy = 0.9961538461538462\n",
      "Confusion Matrix\n",
      "[[182   0   0   0]\n",
      " [  1  57   0   0]\n",
      " [  0   0  10   0]\n",
      " [  0   0   0  10]]\n",
      "              precision    recall  f1-score   support\n",
      "\n",
      "Unacceptable       0.99      1.00      1.00       182\n",
      "  Acceptable       1.00      0.98      0.99        58\n",
      "        Good       1.00      1.00      1.00        10\n",
      "   Very Good       1.00      1.00      1.00        10\n",
      "\n",
      "    accuracy                           1.00       260\n",
      "   macro avg       1.00      1.00      1.00       260\n",
      "weighted avg       1.00      1.00      1.00       260\n",
      "\n"
     ]
    }
   ],
   "source": [
    "# SVC-GridSearch - Accuracy and Confusion Matrix\n",
    "print(f\"Accuracy = {best_model_1.score(X_test, y_test)}\")\n",
    "print('Confusion Matrix')\n",
    "y_test_pred1 = best_model_1.predict(X_test)\n",
    "print(confusion_matrix(y_test, y_test_pred1))\n",
    "\n",
    "# SVC-GridSearch - Classification Report\n",
    "print(classification_report(y_test, y_test_pred1, target_names=['Unacceptable', 'Acceptable', 'Good', 'Very Good']))"
   ]
  },
  {
   "cell_type": "markdown",
   "metadata": {},
   "source": [
    "The model performed excellently, with accuracy, precision (weighted), and recall (weighted) score of 100%. Although the results are suspiciously high, it was ensured that appropriate data splits and no data leakage were committed in this code. These results show that the SVC model tuned via GridSearchCV is adequate for prediction."
   ]
  },
  {
   "cell_type": "markdown",
   "metadata": {},
   "source": [
    "### SVC Tuned via RandomizedSearchCV"
   ]
  },
  {
   "cell_type": "code",
   "execution_count": 13,
   "metadata": {},
   "outputs": [
    {
     "name": "stdout",
     "output_type": "stream",
     "text": [
      "Accuracy = 0.9961538461538462\n",
      "Confusion Matrix\n",
      "[[182   0   0   0]\n",
      " [  1  57   0   0]\n",
      " [  0   0  10   0]\n",
      " [  0   0   0  10]]\n",
      "              precision    recall  f1-score   support\n",
      "\n",
      "Unacceptable       0.99      1.00      1.00       182\n",
      "  Acceptable       1.00      0.98      0.99        58\n",
      "        Good       1.00      1.00      1.00        10\n",
      "   Very Good       1.00      1.00      1.00        10\n",
      "\n",
      "    accuracy                           1.00       260\n",
      "   macro avg       1.00      1.00      1.00       260\n",
      "weighted avg       1.00      1.00      1.00       260\n",
      "\n"
     ]
    }
   ],
   "source": [
    "# SVC-RandomizedSearch - Accuracy and Confusion Matrix\n",
    "print(f\"Accuracy = {best_model_2.score(X_test, y_test)}\")\n",
    "print('Confusion Matrix')\n",
    "y_test_pred2 = best_model_2.predict(X_test)\n",
    "print(confusion_matrix(y_test, y_test_pred2))\n",
    "\n",
    "# SVC-RandomizedSearch - Classification Report\n",
    "print(classification_report(y_test, y_test_pred2, target_names=['Unacceptable', 'Acceptable', 'Good', 'Very Good']))"
   ]
  },
  {
   "cell_type": "markdown",
   "metadata": {},
   "source": [
    "This model performed similarly than the SVC model tuned via GridSearchCV, but with one misclassification. The accuracy, precision (weighted), and recall (weighted) scores of 100% (rounded), show that this model also can be used for car acceptability prediction."
   ]
  },
  {
   "cell_type": "markdown",
   "metadata": {},
   "source": [
    "Both models performed excellently even without balancing the target classes. This suggests that data balancing may not be required for this dataset."
   ]
  }
 ],
 "metadata": {
  "kernelspec": {
   "display_name": "Python 3",
   "language": "python",
   "name": "python3"
  },
  "language_info": {
   "codemirror_mode": {
    "name": "ipython",
    "version": 3
   },
   "file_extension": ".py",
   "mimetype": "text/x-python",
   "name": "python",
   "nbconvert_exporter": "python",
   "pygments_lexer": "ipython3",
   "version": "3.12.6"
  }
 },
 "nbformat": 4,
 "nbformat_minor": 2
}
